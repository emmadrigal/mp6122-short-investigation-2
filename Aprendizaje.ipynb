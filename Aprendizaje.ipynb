{
 "cells": [
  {
   "cell_type": "markdown",
   "metadata": {},
   "source": [
    "# Aprendizaje Supervisado de un Conjunto de Datos del Clima\n",
    "\n",
    "En este notebook se muestra un benchmark de distintos metodos de aprendizaje supervisado, en este caso es un conjunto de datos climatico en Australia.\n",
    "\n",
    "Este set de datos puede ser descargado del siguiente link:\n",
    "\n",
    "https://www.kaggle.com/jsphyg/weather-dataset-rattle-package"
   ]
  },
  {
   "cell_type": "markdown",
   "metadata": {},
   "source": [
    "Se iniciara por cargar las bibliotecas necesarias."
   ]
  },
  {
   "cell_type": "code",
   "execution_count": null,
   "metadata": {},
   "outputs": [],
   "source": [
    "import numpy as np\n",
    "import pandas as pd\n",
    "from matplotlib import pyplot as plt\n",
    "from sklearn import preprocessing\n",
    "%matplotlib inline"
   ]
  },
  {
   "cell_type": "markdown",
   "metadata": {},
   "source": [
    "## Preprocesamiento\n",
    "\n",
    "En esta seccion se realiza el pre-procesamiento sobre el conjunto de datos, este proviente de la investigacion anterior y por lo tanto no es explicara el racionamiento de este pre-procesamiento"
   ]
  },
  {
   "cell_type": "code",
   "execution_count": null,
   "metadata": {},
   "outputs": [],
   "source": [
    "weather_results = pd.read_csv(\"weatherAUS.csv\")\n",
    "weather_results.replace(to_replace='Yes', value = 1, inplace = True)\n",
    "weather_results.replace(to_replace='No',  value = 0, inplace = True)\n",
    "\n",
    "directions = [\"N\",\"NNE\",\"NE\",\"ENE\",\"E\",\"ESE\", \"SE\", \"SSE\",\"S\",\"SSW\",\"SW\",\"WSW\",\"W\",\"WNW\",\"NW\",\"NNW\"]\n",
    "\n",
    "def compassToDeg(compass_direction):\n",
    "    global directions\n",
    "    index = directions.index(compass_direction)\n",
    "    angle = index * 22.5\n",
    "    return angle\n",
    "\n",
    "def windGustDirConvert(direction):\n",
    "    global directions\n",
    "    if direction['WindGustDir'] in directions:\n",
    "        return compassToDeg(direction['WindGustDir'])\n",
    "\n",
    "def windDir9amConvert(direction):\n",
    "    global directions\n",
    "    if direction['WindDir9am'] in directions:\n",
    "        return compassToDeg(direction['WindDir9am'])\n",
    "\n",
    "def windDir3pmConvert(direction):\n",
    "    global directions\n",
    "    if direction['WindDir3pm'] in directions:\n",
    "        return compassToDeg(direction['WindDir3pm'])\n",
    "\n",
    "windGustDirAngle = weather_results.filter(regex=r'WindGustDir').apply(windGustDirConvert, axis=1)\n",
    "windDir9amAngle = weather_results.filter(regex=r'WindDir9am').apply(windDir9amConvert, axis=1)\n",
    "windDir3pmAngle = weather_results.filter(regex=r'WindDir3pm').apply(windDir3pmConvert, axis=1)\n",
    "\n",
    "windGustDirAngleCos = windGustDirAngle.apply(np.cos)\n",
    "windGustDirAngleSin = windGustDirAngle.apply(np.sin)\n",
    "windDir9amAngleCos = windDir9amAngle.apply(np.cos)\n",
    "windDir9amAngleSin = windDir9amAngle.apply(np.sin)\n",
    "windDir3pmAngleCos = windDir3pmAngle.apply(np.cos)\n",
    "windDir3pmAngleSin = windDir3pmAngle.apply(np.sin)\n",
    "\n",
    "del weather_results['WindGustDir']\n",
    "del weather_results['WindDir9am']\n",
    "del weather_results['WindDir3pm']\n",
    "\n",
    "weather_results['windGustDirAngleCos'] = windGustDirAngleCos\n",
    "weather_results['windGustDirAngleSin'] = windGustDirAngleSin\n",
    "weather_results['windDir9amAngleCos'] = windDir9amAngleCos\n",
    "weather_results['windDir9amAngleSin'] = windDir9amAngleSin\n",
    "weather_results['windDir3pmAngleCos'] = windDir3pmAngleCos\n",
    "weather_results['windDir3pmAngleSin'] = windDir3pmAngleSin\n",
    "\n",
    "weather_results.fillna(weather_results.mean(), inplace = True)\n",
    "\n",
    "weather_results.sample(10)"
   ]
  },
  {
   "cell_type": "markdown",
   "metadata": {},
   "source": [
    "La normalizacion se realizara segun el tipo de dato, es decir toda la temperatura se normalizara segun el maximo global de todos los datos de temperatura, igual para la velocidad del viento y otros datos."
   ]
  },
  {
   "cell_type": "code",
   "execution_count": null,
   "metadata": {},
   "outputs": [],
   "source": [
    "# Normalize all temperature columns\n",
    "temp_cols = weather_results.filter(regex=r'Temp')\n",
    "temp_cols = ((temp_cols-temp_cols.min())/(temp_cols.max()-temp_cols.min()))\n",
    "\n",
    "weather_results['MinTemp'] = temp_cols['MinTemp']\n",
    "weather_results['MaxTemp'] = temp_cols['MaxTemp']\n",
    "weather_results['Temp9am'] = temp_cols['Temp9am']\n",
    "weather_results['Temp3pm'] = temp_cols['Temp3pm']\n",
    "\n",
    "# Normalize all speed columns\n",
    "speed_cols = weather_results.filter(regex=r'Speed')\n",
    "speed_cols = ((speed_cols-speed_cols.min())/(speed_cols.max()-speed_cols.min()))\n",
    "\n",
    "weather_results['WindGustSpeed'] = speed_cols['WindGustSpeed']\n",
    "weather_results['WindSpeed9am'] = speed_cols['WindSpeed9am']\n",
    "weather_results['WindSpeed3pm'] = speed_cols['WindSpeed3pm']\n",
    "\n",
    "\n",
    "# Normalize all preassure columns\n",
    "preassure_cols = weather_results.filter(regex=r'Pressure')\n",
    "preassure_cols = ((preassure_cols-preassure_cols.min())/(preassure_cols.max()-preassure_cols.min()))\n",
    "\n",
    "\n",
    "weather_results['Pressure9am'] = preassure_cols['Pressure9am']\n",
    "weather_results['Pressure3pm'] = preassure_cols['Pressure3pm']\n",
    "\n",
    "# Normalize all humidity columns\n",
    "humidity_cols = weather_results.filter(regex=r'Humidity')\n",
    "humidity_cols = ((humidity_cols-humidity_cols.min())/(humidity_cols.max()-humidity_cols.min()))\n",
    "\n",
    "weather_results['Humidity9am'] = humidity_cols['Humidity9am']\n",
    "weather_results['Humidity3pm'] = humidity_cols['Humidity3pm']\n",
    "\n",
    "# Normalize all cloud columns\n",
    "cloud_cols = weather_results.filter(regex=r'Cloud')\n",
    "cloud_cols = ((cloud_cols-cloud_cols.min())/(cloud_cols.max()-cloud_cols.min()))\n",
    "\n",
    "weather_results['Cloud9am'] = cloud_cols['Cloud9am']\n",
    "weather_results['Cloud3pm'] = cloud_cols['Cloud3pm']\n",
    "\n",
    "# Normalize remaining columns individually\n",
    "cols_to_norm = ['Rainfall','Evaporation',\n",
    "                'Evaporation','Evaporation',\n",
    "                'Sunshine', 'Cloud9am','Cloud3pm',\n",
    "                'RainToday','RISK_MM', 'RainTomorrow']\n",
    "weather_results[cols_to_norm] = weather_results[cols_to_norm].apply(lambda x: (x - x.min()) / (x.max() - x.min()))\n",
    "\n",
    "weather_results.sample(10)"
   ]
  },
  {
   "cell_type": "markdown",
   "metadata": {},
   "source": [
    "## Metodos Supervisados\n",
    "\n",
    "El set de datos consiste de distintas mediciones de datos meteorologicos ademas de informacion sobre la presencia o no de lluvia en el dia siguiente.\n",
    "\n",
    "Este problema puede ser modelado como un problema de clasificacion donde lo que se busca es clasificar las distinas mediciones segun la cantidad de lluvia"
   ]
  },
  {
   "cell_type": "code",
   "execution_count": null,
   "metadata": {},
   "outputs": [],
   "source": [
    "weather_results.sample(10)"
   ]
  },
  {
   "cell_type": "markdown",
   "metadata": {},
   "source": [
    "% Class Methods\n",
    "### Regresion Linear? (Clasificacion) o SVM (Regresion)\n",
    "### kNN\n",
    "### Naive Bayes\n",
    "### Regresion Decision Tress\n",
    "### Random Forest \n",
    "### Kernel SVM\n",
    "\n",
    "\n",
    "% New Methods\n",
    "### Stochastic Gradient Descent?\n",
    "### Gaussian Process Regression/Classification\n",
    "### Cross Decomposition?\n",
    "### AdaBoost\n",
    "### Forest of randomized trees\n",
    "### Isotonic Regression"
   ]
  },
  {
   "cell_type": "markdown",
   "metadata": {},
   "source": [
    "## Comparacion de Resultados"
   ]
  }
 ],
 "metadata": {
  "kernelspec": {
   "display_name": "Python 3",
   "language": "python",
   "name": "python3"
  },
  "language_info": {
   "codemirror_mode": {
    "name": "ipython",
    "version": 3
   },
   "file_extension": ".py",
   "mimetype": "text/x-python",
   "name": "python",
   "nbconvert_exporter": "python",
   "pygments_lexer": "ipython3",
   "version": "3.8.3"
  }
 },
 "nbformat": 4,
 "nbformat_minor": 4
}
