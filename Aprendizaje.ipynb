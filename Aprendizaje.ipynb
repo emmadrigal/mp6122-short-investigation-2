{
 "cells": [
  {
   "cell_type": "markdown",
   "metadata": {},
   "source": [
    "# Aprendizaje Supervisado de un Conjunto de Datos del Clima\n",
    "\n",
    "En este notebook se muestra un benchmark de distintos metodos de aprendizaje supervisado, en este caso es un conjunto de datos climatico en Australia.\n",
    "\n",
    "Este set de datos puede ser descargado del siguiente link:\n",
    "\n",
    "https://www.kaggle.com/jsphyg/weather-dataset-rattle-package"
   ]
  },
  {
   "cell_type": "markdown",
   "metadata": {},
   "source": [
    "Se iniciara por cargar las bibliotecas necesarias."
   ]
  },
  {
   "cell_type": "code",
   "execution_count": 1,
   "metadata": {},
   "outputs": [],
   "source": [
    "import numpy as np\n",
    "import pandas as pd\n",
    "from matplotlib import pyplot as plt\n",
    "from sklearn import preprocessing\n",
    "%matplotlib inline"
   ]
  },
  {
   "cell_type": "markdown",
   "metadata": {},
   "source": [
    "## Preprocesamiento\n",
    "\n",
    "En esta seccion se realiza el pre-procesamiento sobre el conjunto de datos, este proviente de la investigacion anterior y por lo tanto no es explicara el racionamiento de este pre-procesamiento"
   ]
  },
  {
   "cell_type": "code",
   "execution_count": 2,
   "metadata": {},
   "outputs": [],
   "source": [
    "weather_results = pd.read_csv(\"weatherAUS.csv\")\n",
    "weather_results.replace(to_replace='Yes', value = 1, inplace = True)\n",
    "weather_results.replace(to_replace='No',  value = 0, inplace = True)\n",
    "\n",
    "directions = [\"N\",\"NNE\",\"NE\",\"ENE\",\"E\",\"ESE\", \"SE\", \"SSE\",\"S\",\"SSW\",\"SW\",\"WSW\",\"W\",\"WNW\",\"NW\",\"NNW\"]\n",
    "\n",
    "def compassToDeg(compass_direction):\n",
    "    global directions\n",
    "    index = directions.index(compass_direction)\n",
    "    angle = index * 22.5\n",
    "    return angle\n",
    "\n",
    "def windGustDirConvert(direction):\n",
    "    global directions\n",
    "    if direction['WindGustDir'] in directions:\n",
    "        return compassToDeg(direction['WindGustDir'])\n",
    "\n",
    "def windDir9amConvert(direction):\n",
    "    global directions\n",
    "    if direction['WindDir9am'] in directions:\n",
    "        return compassToDeg(direction['WindDir9am'])\n",
    "\n",
    "def windDir3pmConvert(direction):\n",
    "    global directions\n",
    "    if direction['WindDir3pm'] in directions:\n",
    "        return compassToDeg(direction['WindDir3pm'])\n",
    "\n",
    "windGustDirAngle = weather_results.filter(regex=r'WindGustDir').apply(windGustDirConvert, axis=1)\n",
    "windDir9amAngle = weather_results.filter(regex=r'WindDir9am').apply(windDir9amConvert, axis=1)\n",
    "windDir3pmAngle = weather_results.filter(regex=r'WindDir3pm').apply(windDir3pmConvert, axis=1)\n",
    "\n",
    "windGustDirAngleCos = windGustDirAngle.apply(np.cos)\n",
    "windGustDirAngleSin = windGustDirAngle.apply(np.sin)\n",
    "windDir9amAngleCos = windDir9amAngle.apply(np.cos)\n",
    "windDir9amAngleSin = windDir9amAngle.apply(np.sin)\n",
    "windDir3pmAngleCos = windDir3pmAngle.apply(np.cos)\n",
    "windDir3pmAngleSin = windDir3pmAngle.apply(np.sin)\n",
    "\n",
    "del weather_results['WindGustDir']\n",
    "del weather_results['WindDir9am']\n",
    "del weather_results['WindDir3pm']\n",
    "\n",
    "weather_results['windGustDirAngleCos'] = windGustDirAngleCos\n",
    "weather_results['windGustDirAngleSin'] = windGustDirAngleSin\n",
    "weather_results['windDir9amAngleCos'] = windDir9amAngleCos\n",
    "weather_results['windDir9amAngleSin'] = windDir9amAngleSin\n",
    "weather_results['windDir3pmAngleCos'] = windDir3pmAngleCos\n",
    "weather_results['windDir3pmAngleSin'] = windDir3pmAngleSin\n",
    "\n",
    "weather_results.fillna(weather_results.mean(), inplace = True)"
   ]
  },
  {
   "cell_type": "markdown",
   "metadata": {},
   "source": [
    "## Metodos Supervisados"
   ]
  },
  {
   "cell_type": "code",
   "execution_count": null,
   "metadata": {},
   "outputs": [],
   "source": []
  },
  {
   "cell_type": "markdown",
   "metadata": {},
   "source": [
    "% Class Methods\n",
    "### Regresion Linear? (Clasificacion) o SVM (Regresion)\n",
    "### kNN\n",
    "### Naive Bayes\n",
    "### Regresion Decision Tress\n",
    "### Random Forest \n",
    "### Kernel SVM\n",
    "\n",
    "\n",
    "% New Methods\n",
    "### Stochastic Gradient Descent?\n",
    "### Gaussian Process Regression/Classification\n",
    "### Cross Decomposition?\n",
    "### AdaBoost\n",
    "### Forest of randomized trees\n",
    "### Isotonic Regression"
   ]
  },
  {
   "cell_type": "markdown",
   "metadata": {},
   "source": [
    "## Comparacion de Resultados"
   ]
  }
 ],
 "metadata": {
  "kernelspec": {
   "display_name": "Python 3",
   "language": "python",
   "name": "python3"
  },
  "language_info": {
   "codemirror_mode": {
    "name": "ipython",
    "version": 3
   },
   "file_extension": ".py",
   "mimetype": "text/x-python",
   "name": "python",
   "nbconvert_exporter": "python",
   "pygments_lexer": "ipython3",
   "version": "3.8.3"
  }
 },
 "nbformat": 4,
 "nbformat_minor": 4
}
